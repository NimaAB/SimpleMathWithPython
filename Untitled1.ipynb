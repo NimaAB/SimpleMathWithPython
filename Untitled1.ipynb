{
 "cells": [
  {
   "cell_type": "code",
   "execution_count": 39,
   "metadata": {},
   "outputs": [],
   "source": [
    "def sum_and_or_square(array, square_it=False): \n",
    "    n=1\n",
    "    if square_it:\n",
    "        n = 2\n",
    "        \n",
    "    length = len(array)\n",
    "    Sum = 0\n",
    "    for i in range(length): \n",
    "        Sum += array[i]**n\n",
    "    \n",
    "    return Sum\n",
    "\n",
    "    \n",
    "\n",
    "def utvalgetsGjennomsnitt(array): \n",
    "    n = len(array)\n",
    "    return sum_and_or_square(array)/n\n",
    "\n",
    "\n",
    "def firstPart(array):\n",
    "    return sum_and_or_square(array, True)"
   ]
  },
  {
   "cell_type": "code",
   "execution_count": 46,
   "metadata": {},
   "outputs": [
    {
     "name": "stdout",
     "output_type": "stream",
     "text": [
      "124.87499999999999\n",
      "124877.40000000001\n",
      "18.18214285714826\n",
      "S = 4.2640523984993735\n"
     ]
    }
   ],
   "source": [
    "import numpy as np\n",
    "import math\n",
    "\n",
    "data = [125.2, 132.3, 126.0, 128.5, 124.8, 122.4, 118.9, 120.9];\n",
    "n = len(data)\n",
    "gjennomSnitt = utvalgetsGjennomsnitt(data)\n",
    "fp = firstPart(data)\n",
    "\n",
    "resulte = (1/(n-1)) * (fp -(n * (gjennomSnitt**2)))\n",
    "varians = np.sqrt(resulte)\n",
    "print(gjennomSnitt)\n",
    "print(fp) \n",
    "print(resulte)\n",
    "print(f'S = {varians}')"
   ]
  },
  {
   "cell_type": "code",
   "execution_count": null,
   "metadata": {},
   "outputs": [],
   "source": []
  }
 ],
 "metadata": {
  "kernelspec": {
   "display_name": "Python 3",
   "language": "python",
   "name": "python3"
  },
  "language_info": {
   "codemirror_mode": {
    "name": "ipython",
    "version": 3
   },
   "file_extension": ".py",
   "mimetype": "text/x-python",
   "name": "python",
   "nbconvert_exporter": "python",
   "pygments_lexer": "ipython3",
   "version": "3.7.4"
  }
 },
 "nbformat": 4,
 "nbformat_minor": 2
}
